{
 "cells": [
  {
   "cell_type": "code",
   "execution_count": 15,
   "metadata": {
    "collapsed": true
   },
   "outputs": [],
   "source": [
    "import cv2\n",
    "import numpy as np\n",
    "import math\n",
    "import requests\n",
    "import shutil\n",
    "\n",
    "url = \"http://clipart.info/images/ccovers/1495816049surprised-face-trump-png-transparent-clip-art.png\"\n",
    "url = \"http://www.acme.eu/sites/default/files/upload/small2_jpg_0.png\"\n",
    "\n",
    "resp = requests.get(url, stream=True)\n",
    "if resp.status_code == 200:\n",
    "    with open('test.png', 'wb') as f:\n",
    "        resp.raw.decode_content = True\n",
    "        shutil.copyfileobj(resp.raw, f)\n",
    "\n",
    "img = cv2.imread('test.png', cv2.IMREAD_UNCHANGED)#\n",
    "img = np.uint16(img)\n",
    "imgShape = img.shape\n",
    "genImgH = np.zeros(imgShape, np.uint16)\n",
    "\n",
    "for i in range(imgShape[0]):\n",
    "    for j in range(imgShape[1] // 2):\n",
    "        genImgH[i, j] = abs(img[i, 2*j] + img[i, 2*j + 1]) // 2\n",
    "        genImgH[i, imgShape[1] // 2 + j] = abs(img[i, 2*j] - img[i, 2*j + 1]) // 2\n",
    "\n",
    "img = genImgH\n",
    "imgShape = genImgH.shape\n",
    "genImgV = np.zeros(imgShape, np.uint8)\n",
    "\n",
    "for i in range(imgShape[0] // 2):\n",
    "    for j in range(imgShape[1]):\n",
    "        genImgV[i, j] = abs(img[2*i, j] + img[2*i + 1, j]) // 2\n",
    "        genImgV[i + imgShape[0] // 2, j] = abs(img[2*i, 2] - img[2*i + 1, j]) // 2\n",
    "        \n",
    "cv2.imshow('genNCity', genImgV)\n",
    "cv2.waitKey(10000)\n",
    "cv2.imwrite('genNCity.png', genImgV)\n",
    "cv2.destroyAllWindows()\n",
    "\n",
    "del resp\n"
   ]
  }
 ],
 "metadata": {
  "kernelspec": {
   "display_name": "Python 3",
   "language": "python",
   "name": "python3"
  },
  "language_info": {
   "codemirror_mode": {
    "name": "ipython",
    "version": 3
   },
   "file_extension": ".py",
   "mimetype": "text/x-python",
   "name": "python",
   "nbconvert_exporter": "python",
   "pygments_lexer": "ipython3",
   "version": "3.5.2"
  }
 },
 "nbformat": 4,
 "nbformat_minor": 2
}
