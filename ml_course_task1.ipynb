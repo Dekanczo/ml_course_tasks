{
 "cells": [
  {
   "cell_type": "code",
   "execution_count": null,
   "metadata": {
    "scrolled": true
   },
   "outputs": [],
   "source": [
    "import vk\n",
    "import time\n",
    "import matplotlib.pyplot as plt\n",
    "from collections import defaultdict\n",
    "from datetime import datetime, date\n",
    "\n",
    "token = ''\n",
    "session = vk.Session(token)\n",
    "vk_api = vk.API(session)\n",
    "\n",
    "\n",
    "group = vk_api.groups.getById(group_id='nakedsci', fields='members_count', version = vk.version)\n",
    "\n",
    "sizes = defaultdict(int)\n",
    "age = defaultdict(int)\n",
    "date = datetime.today()\n",
    "\n",
    "for i in range((group[0]['members_count'] + 999) // 1000 - 569): #569K users\n",
    "    members_id = vk_api.groups.getMembers(group_id='nakedsci', count=1000, offset = 1000 * i, version = vk.version)\n",
    "    time.sleep(0.3)\n",
    "    members = vk_api.users.get(user_ids=members_id['users'], fields='bdate, sex', version=vk.version)\n",
    "\n",
    "    for member in members:\n",
    "        if 'bdate' in member:\n",
    "            birthday = member['bdate'].split('.')\n",
    "            if len(birthday) == 3:\n",
    "                if int(birthday[0]) == date.day and int(birthday[1]) == date.month:\n",
    "                    sizes[date.year - int(birthday[2])] += 1\n",
    "                else:\n",
    "                    sizes[date.year - int(birthday[2]) - 1] += 1\n",
    "        age[member['sex']] += 1\n",
    "\n",
    "age[1] /= len(age)\n",
    "age[2] /= len(age)\n",
    "\n",
    "labels = [key for key in sizes]\n",
    "sizes_l = [sizes[key] for key in sizes]\n",
    "\n",
    "explode = [0.1 for i in sizes] \n",
    "\n",
    "fig1, ax1 = plt.subplots()\n",
    "ax1.pie(sizes_l, explode=explode, labels=labels, labeldistance=1.2, autopct='%1.2f%%',\n",
    "        shadow=False, startangle=90)\n",
    "ax1.axis('equal')\n",
    "plt.show()\n",
    "\n",
    "fig1, ax1 = plt.subplots()\n",
    "ax1.pie([age[1], age[2]], explode=[0.1, 0.1], labels=['Female', 'Male'], labeldistance=1.2, autopct='%1.2f%%',\n",
    "        shadow=False, startangle=90)\n",
    "ax1.axis('equal')\n",
    "plt.show()\n"
   ]
  }
 ],
 "metadata": {
  "kernelspec": {
   "display_name": "Python 3",
   "language": "python",
   "name": "python3"
  },
  "language_info": {
   "codemirror_mode": {
    "name": "ipython",
    "version": 3
   },
   "file_extension": ".py",
   "mimetype": "text/x-python",
   "name": "python",
   "nbconvert_exporter": "python",
   "pygments_lexer": "ipython3",
   "version": "3.5.2"
  }
 },
 "nbformat": 4,
 "nbformat_minor": 2
}
