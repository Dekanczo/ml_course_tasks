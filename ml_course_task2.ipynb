{
 "cells": [
  {
   "cell_type": "code",
   "execution_count": 4,
   "metadata": {
    "scrolled": true
   },
   "outputs": [
    {
     "name": "stdout",
     "output_type": "stream",
     "text": [
      "577, 314\n",
      "38.38\n",
      "32.0\n",
      "23.80 28.00\n",
      "0.41\n",
      "Anna\n"
     ]
    }
   ],
   "source": [
    "import pandas as pd\n",
    "import scipy\n",
    "from collections import defaultdict\n",
    "\n",
    "data = pd.read_csv(\"/home/denio/Downloads/titanic.csv\", index_col = \"PassengerId\")\n",
    "q0 = data['Sex'].value_counts()\n",
    "print(q0[0], q0[1], sep=', ')\n",
    "q1 = data['Survived'].value_counts()\n",
    "print('%.2f' % (q1[1]/(q1[0] + q1[1]) * 100))\n",
    "q2 = data['Pclass'].value_counts()\n",
    "print(q2[1]/(q2[2] + q2[3]) * 100)\n",
    "q3 = data['Age']\n",
    "print('%.2f %.2f' % (q3.sum()/q3.size, q3[q3 >= 0].sort_values().median()))\n",
    "\n",
    "print('%.2f' % data['SibSp'].corr(data['Parch']))\n",
    "\n",
    "q4 = data['Name']\n",
    "p = q4.str.extract(r'(?:\\w+, (?:Mrs|Ms|Miss). (\\w*) ?\\w* ?\\w* ?\\(?(\\w*).*)', expand=True)\n",
    "names = [p[1][i] if p[1][i] == p[1][i] and p[1][i] != '' else p[0][i] for i in range(1, len(p[1]) + 1)  if p[0][i] == p[0][i] and p[1][i] == p[1][i]] \n",
    "nameCount = defaultdict(str)\n",
    "for name in names:\n",
    "    nameCount[name] = nameCount.get(name, 0) + 1\n",
    "print(max(nameCount, key = lambda k: nameCount[k]))"
   ]
  },
  {
   "cell_type": "code",
   "execution_count": null,
   "metadata": {
    "collapsed": true
   },
   "outputs": [],
   "source": []
  }
 ],
 "metadata": {
  "kernelspec": {
   "display_name": "Python 3",
   "language": "python",
   "name": "python3"
  },
  "language_info": {
   "codemirror_mode": {
    "name": "ipython",
    "version": 3
   },
   "file_extension": ".py",
   "mimetype": "text/x-python",
   "name": "python",
   "nbconvert_exporter": "python",
   "pygments_lexer": "ipython3",
   "version": "3.5.2"
  }
 },
 "nbformat": 4,
 "nbformat_minor": 2
}
